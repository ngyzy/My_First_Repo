{
  "nbformat": 4,
  "nbformat_minor": 0,
  "metadata": {
    "colab": {
      "provenance": [],
      "authorship_tag": "ABX9TyMHo/diQpg9kqi2bmqS3XId",
      "include_colab_link": true
    },
    "kernelspec": {
      "name": "python3",
      "display_name": "Python 3"
    },
    "language_info": {
      "name": "python"
    }
  },
  "cells": [
    {
      "cell_type": "markdown",
      "metadata": {
        "id": "view-in-github",
        "colab_type": "text"
      },
      "source": [
        "<a href=\"https://colab.research.google.com/github/ngyzy/My_First_Repo/blob/main/Class7_22.ipynb\" target=\"_parent\"><img src=\"https://colab.research.google.com/assets/colab-badge.svg\" alt=\"Open In Colab\"/></a>"
      ]
    },
    {
      "cell_type": "code",
      "execution_count": 3,
      "metadata": {
        "colab": {
          "base_uri": "https://localhost:8080/"
        },
        "id": "cbydA8aJzSw-",
        "outputId": "4c19c69d-b894-4d15-95b1-bc401a5e408b"
      },
      "outputs": [
        {
          "output_type": "stream",
          "name": "stdout",
          "text": [
            "    Name    Age\n",
            "0  False  False\n",
            "1  False  False\n",
            "2   True  False\n",
            "3  False   True\n"
          ]
        }
      ],
      "source": [
        "#Data Cleaning\n",
        "import pandas as pd\n",
        "import numpy as np\n",
        "\n",
        "#Create a Sample DataFrame\n",
        "data = {'Name': ['John', 'Anna', np.nan, 'Peter'],\n",
        "        'Age': [28, 24, 35, np.nan]}\n",
        "df = pd.DataFrame(data)\n",
        "print(df.isnull())\n",
        "\n",
        "\n",
        "\n",
        "\n",
        "\n",
        "\n"
      ]
    },
    {
      "cell_type": "code",
      "source": [
        "#Dropping Nulls\n",
        "#Drop rows with null values\n",
        "df_dropped=df.dropna()\n",
        "print(df_dropped)"
      ],
      "metadata": {
        "colab": {
          "base_uri": "https://localhost:8080/"
        },
        "id": "qQlIF4QTzaYw",
        "outputId": "0ad42def-f941-4679-c045-d55c0b1fc3e0"
      },
      "execution_count": 4,
      "outputs": [
        {
          "output_type": "stream",
          "name": "stdout",
          "text": [
            "   Name   Age\n",
            "0  John  28.0\n",
            "1  Anna  24.0\n"
          ]
        }
      ]
    },
    {
      "cell_type": "code",
      "source": [
        "#Filling Nulls\n",
        "#Fill null values with specific value\n",
        "df_filled=df.fillna(\"Unknown\")\n",
        "print(df_filled)"
      ],
      "metadata": {
        "colab": {
          "base_uri": "https://localhost:8080/"
        },
        "id": "P40oRTnd20rN",
        "outputId": "2bc39277-e292-4cd9-faa8-07115975ae8b"
      },
      "execution_count": 5,
      "outputs": [
        {
          "output_type": "stream",
          "name": "stdout",
          "text": [
            "      Name      Age\n",
            "0     John     28.0\n",
            "1     Anna     24.0\n",
            "2  Unknown     35.0\n",
            "3    Peter  Unknown\n"
          ]
        }
      ]
    },
    {
      "cell_type": "code",
      "source": [
        "#Outliers\n",
        "#Detecting Outliers using IQR (Interquartile Range)\n",
        "#Create a sample DataFrame\n",
        "data= {'Score':[85, 90, 78, 92, 88, 76, 95, 89, 1000]}\n",
        "df=pd.DataFrame(data)\n",
        "\n",
        "#Calculate Q1 and Q3\n",
        "Q1 = df['Score'].quantile(0.25)\n",
        "Q3 = df['Score'].quantile(0.75)\n",
        "\n",
        "#Calculate IQR\n",
        "IQR = Q3 - Q1\n",
        "\n",
        "#Detect Outliers\n",
        "outliers = df[(df['Score'] < Q1 - 1.5 * IQR) | (df['Score'] > Q3 + 1.5 * IQR)]\n",
        "print(outliers)\n",
        "\n"
      ],
      "metadata": {
        "colab": {
          "base_uri": "https://localhost:8080/"
        },
        "id": "LPRGjvIq4R7f",
        "outputId": "3fa9abd4-b494-4b64-d332-37d1f4bd6966"
      },
      "execution_count": 7,
      "outputs": [
        {
          "output_type": "stream",
          "name": "stdout",
          "text": [
            "   Score\n",
            "8   1000\n"
          ]
        }
      ]
    },
    {
      "cell_type": "code",
      "source": [
        "import pandas as pd\n",
        "#Load Covid 19 data\n",
        "url=(\"https://raw.githubusercontent.com/CSSEGISandData/COVID-19/master/csse_covid_19_data/csse_covid_19_time_series/time_series_covid19_confirmed_global.csv\")\n",
        "df=pd.read_csv(url)\n",
        "#Clean data\n",
        "df = df.melt(id_vars=['Province/State', 'Country/Region', 'Lat', 'Long'], var_name='Date', value_name='Confirmed Cases')\n",
        "df['Date'] = pd.to_datetime(df['Date'])\n",
        "\n",
        "#Grouping data\n",
        "df_grouped=df.groupby(['Country/Region', pd.Grouper(key='Date', freq='1M')])['Confirmed Cases'].sum().reset_index()\n",
        "\n",
        "#Display first few rows\n",
        "print(df_grouped.head())\n"
      ],
      "metadata": {
        "colab": {
          "base_uri": "https://localhost:8080/"
        },
        "id": "6Om81kBkDYBU",
        "outputId": "88f78218-d77c-4021-b2ed-37e06078644c"
      },
      "execution_count": 19,
      "outputs": [
        {
          "output_type": "stream",
          "name": "stdout",
          "text": [
            "  Country/Region       Date  Confirmed Cases\n",
            "0    Afghanistan 2020-01-31                0\n",
            "1    Afghanistan 2020-02-29               30\n",
            "2    Afghanistan 2020-03-31             1141\n",
            "3    Afghanistan 2020-04-30            25152\n",
            "4    Afghanistan 2020-05-31           222720\n"
          ]
        },
        {
          "output_type": "stream",
          "name": "stderr",
          "text": [
            "/tmp/ipython-input-19-3199912339.py:7: UserWarning: Could not infer format, so each element will be parsed individually, falling back to `dateutil`. To ensure parsing is consistent and as-expected, please specify a format.\n",
            "  df['Date'] = pd.to_datetime(df['Date'])\n",
            "/tmp/ipython-input-19-3199912339.py:10: FutureWarning: 'M' is deprecated and will be removed in a future version, please use 'ME' instead.\n",
            "  df_grouped=df.groupby(['Country/Region', pd.Grouper(key='Date', freq='1M')])['Confirmed Cases'].sum().reset_index()\n"
          ]
        }
      ]
    }
  ]
}